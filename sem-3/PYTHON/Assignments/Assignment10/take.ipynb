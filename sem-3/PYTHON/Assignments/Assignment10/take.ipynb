{
 "cells": [
  {
   "cell_type": "markdown",
   "metadata": {},
   "source": [
    "# Programming in a functional style with map and filter\n",
    "\n",
    "There is one more thing we think you should learn before leaving python behind (hopefully not forever).\n",
    "\n",
    "We will look at a collection of a few functions which allow you to solve problems in a more \"functional\" style (as opposed to the imperative style you likely are most used to).  There are quite a few of these, so we will only look at some of them:\n",
    "\n",
    "map\n",
    "\n",
    "filter\n",
    "\n",
    "reduce\n",
    "\n",
    "A common feature is that they are all lazy. They also what are called \"functors\", i.e. they follow the pattern where they take a function and a container and does something by applying the function on the elements of the container.\n",
    "\n",
    "In my opinion, writing code with these functions is not very pythonic, and in many cases plain old list comprehension feels better.\n",
    "\n",
    "\n",
    "In addition lets learn the functions\n",
    "\n",
    "drop\n",
    "\n",
    "take\n",
    "\n",
    "zip\n",
    "\n",
    "to our list (for convenience).\n",
    " \n",
    "But the advantage of learning these is that you will find them in many languages (including C++) with sometimes minor changes to names. Instead of \"map\", (unfortunately) C++ uses the name \"transform\" and (unfortunately) pythons' reduce is usually called \"fold\" in other languages. \n",
    "\n",
    "\n",
    "We will look at the functions one by one. \n",
    "\n"
   ]
  },
  {
   "cell_type": "markdown",
   "metadata": {},
   "source": [
    "## map\n",
    "\n",
    "syntax is: map(fun, container)\n",
    "\n",
    "where fun is a function which can be applied to the elements of the container. The following example should explain what it does.\n",
    "\n",
    "```\n",
    "def fun(x):\n",
    "  return 2*x\n",
    "\n",
    "mylist = [5,6,7]\n",
    "mappedlist = list( map(fun, mylist) )  # [2*5, 2*6, 2*7]\n",
    "\n",
    "```\n",
    "\n",
    "Instead of defining the function fun and giving it a name, a lambda is often used.\n",
    "\n",
    "\n",
    "In the code below, you will find some problems. Solve them.\n",
    "\n"
   ]
  },
  {
   "cell_type": "code",
   "execution_count": 9,
   "metadata": {
    "ExecuteTime": {
     "end_time": "2024-04-26T08:45:40.132193100Z",
     "start_time": "2024-04-26T08:45:40.127744Z"
    }
   },
   "outputs": [
    {
     "name": "stdout",
     "output_type": "stream",
     "text": [
      "Problem 1: [100, 121, 144, 169, 196, 225, 256, 289, 324, 361, 400]\n",
      "Problem 2: [1, 1, 3, 3, 5, 5, 7, 7, 9, 9, 11, 11, 13, 13, 15, 15, 17, 17, 19, 19]\n",
      "Problem 3:  [1, 2, 3, 9, 10, 4, 3, 5, 7, 8, 6]\n"
     ]
    }
   ],
   "source": [
    "\n",
    "#\n",
    "# Problem 1.\n",
    "#\n",
    "# Create the list of squares 100, 121, ..., 400 by mapping a function over mylist. Use a lambda.\n",
    "#\n",
    "\n",
    "mylist = list(range(10,21))\n",
    "\n",
    "mysquares = list(map(lambda x: x*x, mylist))\n",
    "print(\"Problem 1:\", mysquares)\n",
    "\n",
    "\n",
    "#\n",
    "# Problem 2.\n",
    "#\n",
    "# From the list mylist, create the list where you add one to every even number and leave odd numbers as they are.\n",
    "# e.g. [1,2,3,4] should become [1,3,3,5]\n",
    "#\n",
    "\n",
    "mylist = list(range(20))\n",
    "\n",
    "# mylist2 =   # you implement this with map\n",
    "mylist2 = list(map(lambda x:x+1 if x%2==0 else x, mylist))\n",
    "print(\"Problem 2:\", mylist2)\n",
    "\n",
    "\n",
    "#\n",
    "# Problem 3.\n",
    "#\n",
    "# From the list of strings, create a list of integer numbers. \n",
    "# e.g. [\"one\", \"two\", \"three\"] should become [1,2,3]. \n",
    "#\n",
    "# Consider if maybe creating a dictionary would help you solve the problem.\n",
    "#\n",
    "# Only consider numbers 1..10.\n",
    "#\n",
    "\n",
    "mylist = [\"one\", \"two\", \"three\", \"nine\", \"ten\", \"four\", \"three\", \"five\", \"seven\", \"eight\", \"six\"]\n",
    "\n",
    "# myints = # you implement this\n",
    "mydic = {\n",
    "    \"one\" : 1,\n",
    "    \"two\" : 2,\n",
    "    \"three\" : 3,\n",
    "    \"four\" : 4, \n",
    "    \"five\" : 5, \n",
    "    \"six\" : 6,\n",
    "    \"seven\" : 7, \n",
    "    \"eight\" : 8,\n",
    "    \"nine\" : 9, \n",
    "    \"ten\" : 10\n",
    "}\n",
    "mylist2 = [mydic[value] for value in mylist]\n",
    "print(\"Problem 3: \", mylist2)\n",
    "\n"
   ]
  },
  {
   "cell_type": "markdown",
   "metadata": {},
   "source": [
    "## filter\n",
    "\n",
    "A predicate is a function which returns a bool (true or false).\n",
    "\n",
    "Running \n",
    "\n",
    "filter(pred, container)\n",
    "\n",
    "creates a lazy container which keeps only those elements in the container where the predicate evaluates to true.\n",
    "\n",
    "The following examples should explain what is going on\n",
    "\n",
    "```\n",
    "lessthantwo = filter( lambda x : x < 2, [0,1,2,3,4,0])  # we get [0,1,0]\n",
    "```\n",
    "\n",
    "Solve the problems below."
   ]
  },
  {
   "cell_type": "code",
   "execution_count": 12,
   "metadata": {
    "ExecuteTime": {
     "end_time": "2024-04-26T08:46:28.391947500Z",
     "start_time": "2024-04-26T08:46:28.389275Z"
    }
   },
   "outputs": [
    {
     "name": "stdout",
     "output_type": "stream",
     "text": [
      "1 3 5 7 9\n",
      "10 11 12 20 14 10\n",
      "11 13 17 19 23 29 31 37 41 43 47 53 59 61 67 71 73 79 83 89 97\n"
     ]
    }
   ],
   "source": [
    "#\n",
    "# Problem 4\n",
    "#\n",
    "# Find the odd numbers in mylist using filter.\n",
    "#\n",
    "mylist = [1,2,3,4,5,6,7,8,9]\n",
    "oddnum = filter(lambda x: x%2==1, mylist)\n",
    "print(*oddnum)\n",
    "\n",
    "#\n",
    "# Problem 5\n",
    "#\n",
    "# Use filter to find the numbers between 10 and 20 in the list (including 10 and 20)\n",
    "mylist = [1,2,3,10,11,12,20,40,14,10,4]\n",
    "middlenumbers = filter(lambda x: (10 <= x <= 20), mylist)\n",
    "print(*middlenumbers)\n",
    "\n",
    "\n",
    "#\n",
    "# Problem 6\n",
    "#\n",
    "# Below you will find the list mylist containing the numbers 10...100. Apply filter once so that the resulting list are the\n",
    "# prime numbers between 10 and 100.\n",
    "# \n",
    "mylist = list(range(10,101))\n",
    "primenumber = filter(lambda x: all(x%i != 0 for i in range(2, x-1)), mylist)\n",
    "print(*primenumber)\n",
    "\n",
    "\n"
   ]
  },
  {
   "cell_type": "markdown",
   "metadata": {},
   "source": [
    "# zip\n",
    "\n",
    "The following should explain what zip does.\n",
    "\n",
    "```\n",
    "zip([1,2,3], ['a','b','c'])   # [(1, 'a'), (2, 'b'), (3, 'c')]\n",
    "```\n",
    "\n",
    "A common pattern is to zip a container with a range so that you can get information about index i further calculations. Se example below."
   ]
  },
  {
   "cell_type": "code",
   "execution_count": 33,
   "metadata": {
    "ExecuteTime": {
     "end_time": "2024-04-26T14:46:36.189648300Z",
     "start_time": "2024-04-26T14:46:36.187189700Z"
    }
   },
   "outputs": [
    {
     "name": "stdout",
     "output_type": "stream",
     "text": [
      "Problem 7: [('a', 0), ('b', 1), ('c', 2), ('d', 3)]\n",
      "Problem 8: 5\n"
     ]
    }
   ],
   "source": [
    "#\n",
    "# Problem 7\n",
    "#\n",
    "# A common pattern is to zip with a list\n",
    "#\n",
    "# From the list ['a','b','c','d'] create the list [('a',0), ('b',1), ('c',2), ('d',3)]\n",
    "#\n",
    "mylst = ['a','b','c','d']\n",
    "answer = list(zip(mylst, list(range(4)))) \n",
    "print(\"Problem 7:\", answer)\n",
    "\n",
    "\n",
    "#\n",
    "# Problem 8\n",
    "#\n",
    "# Look at the following function\n",
    "#\n",
    "def at(pos, somelist):\n",
    "    a, b = zip(*filter(lambda pair: pair[1] == pos, zip(somelist, range(len(somelist)))))\n",
    "    return a[0]\n",
    "# implement the function using zip and filter (its silly, but a good exercise).\n",
    "\n",
    "print(\"Problem 8:\", at(4, [1,2,3,4,5,6,7,8,9]))\n",
    "\n",
    "\n",
    "\n"
   ]
  },
  {
   "cell_type": "markdown",
   "metadata": {},
   "source": [
    "# drop and take\n",
    "\n",
    "drop removes elements from the front of the container\n",
    "take removes elements from the back of the container\n",
    "\n",
    "```\n",
    "drop(3,[1,2,3,4,5]) # [4,5]\n",
    "take(3,[1,2,3,4,5]) # [1,2,3]\n",
    "```\n",
    "\n"
   ]
  },
  {
   "cell_type": "code",
   "execution_count": 2,
   "metadata": {
    "ExecuteTime": {
     "end_time": "2024-04-27T08:37:14.097180500Z",
     "start_time": "2024-04-27T08:37:14.083951200Z"
    }
   },
   "outputs": [
    {
     "name": "stdout",
     "output_type": "stream",
     "text": [
      "[4, 5]\n",
      "[1, 2, 3]\n"
     ]
    }
   ],
   "source": [
    "#\n",
    "# Problem 9\n",
    "#\n",
    "# implement the drop function using zip and filter\n",
    "def drop(num, container):\n",
    "    a, b = zip(*filter(lambda pair: pair[0] > num, zip(container, range(len(container)))))\n",
    "    return [*a]\n",
    "    \n",
    "        \n",
    "mylist = [1,2,3,4,5]\n",
    "print(drop(3, mylist))  \n",
    "\n",
    "#\n",
    "# Problem 10\n",
    "#\n",
    "# implement the take function using zip and filter\n",
    "def take(num, container):\n",
    "    a, b = zip(*filter(lambda pair: pair[0] <= num, zip(container, range(len(container)))))\n",
    "    return [*a]\n",
    "\n",
    "mylist = [1,2,3,4,5]\n",
    "print(take(3, mylist))\n",
    "\n"
   ]
  },
  {
   "cell_type": "markdown",
   "metadata": {},
   "source": [
    "# reduce\n",
    "\n",
    "This function needs to be imported from the module \"functools\".\n",
    "\n",
    "This should explain what it does:\n",
    "\n",
    "```\n",
    "reduce(lambda x, y : x + y, [1,2,3,4]) # 1+2+3+4 = 10\n",
    "```\n",
    "\n",
    "Much more must be understood about reduce if the operation you are using is not associative  ( we have (x+y)+z = x+(y+z) so + is associative), but we will skip this.\n",
    " "
   ]
  },
  {
   "cell_type": "code",
   "execution_count": 14,
   "metadata": {
    "ExecuteTime": {
     "end_time": "2024-04-26T08:48:31.522845500Z",
     "start_time": "2024-04-26T08:48:31.511861200Z"
    }
   },
   "outputs": [
    {
     "name": "stdout",
     "output_type": "stream",
     "text": [
      "Largest integer in list is 6.\n",
      "Problem 12, factorial of 5 is: 120.\n",
      "Solution problem 13: [('a', 0), ('b', 1), ('c', 2)]\n"
     ]
    }
   ],
   "source": [
    "from functools import reduce\n",
    "#\n",
    "# Problem 11 \n",
    "#\n",
    "# find the largest element in the list mylist using reduce  (Hint: use max and note that max is associative)\n",
    "#\n",
    "mylist = [1,2,3,4,5,6,5,4,3,2,1]\n",
    "print(f\"Largest integer in list is {reduce(lambda x, c: x if c <= x else c, mylist)}.\")\n",
    "\n",
    "#\n",
    "# Problem 12\n",
    "#\n",
    "# Implement the factorial function (n!) using reduce\n",
    "def factorial(n):\n",
    "    return reduce(lambda x, y: x*y, range(1, n+1))\n",
    "print(f\"Problem 12, factorial of 5 is: {factorial(5)}.\")\n",
    "\n",
    "#\n",
    "# Problem 13\n",
    "#\n",
    "# Implement a function which zips with a range without using zip. \n",
    "#\n",
    "# zipwithrange(['a','b','c']) should be [('a',0),('b',1),('c',2)]\n",
    "#\n",
    "# use map, but don't use zip\n",
    "#\n",
    "def zipwithrange(listb):\n",
    "    return list(map(lambda x: (x[1], x[0]), enumerate(listb)))\n",
    "\n",
    "mylistwhat = ['a', 'b', 'c']\n",
    "print(f\"Solution problem 13: {zipwithrange(mylistwhat)}\")\n",
    "\n"
   ]
  },
  {
   "cell_type": "code",
   "outputs": [],
   "source": [],
   "metadata": {
    "collapsed": false
   }
  }
 ],
 "metadata": {
  "kernelspec": {
   "display_name": "Python 3",
   "language": "python",
   "name": "python3"
  },
  "language_info": {
   "codemirror_mode": {
    "name": "ipython",
    "version": 3
   },
   "file_extension": ".py",
   "mimetype": "text/x-python",
   "name": "python",
   "nbconvert_exporter": "python",
   "pygments_lexer": "ipython3",
   "version": "3.12.1"
  }
 },
 "nbformat": 4,
 "nbformat_minor": 2
}
