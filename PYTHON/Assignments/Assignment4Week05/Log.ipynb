{
 "cells": [
  {
   "cell_type": "code",
   "execution_count": null,
   "id": "initial_id",
   "metadata": {
    "collapsed": true
   },
   "outputs": [],
   "source": [
    "print(\"Hello Bernt :) or Markus?? :O\")"
   ]
  },
  {
   "cell_type": "markdown",
   "source": [
    "<h1> Day 1 14/02/24</h1>\n",
    "\n",
    "\n",
    "I went to the Valentine's Day event that Login held, with a some friends.\n",
    "But then they began watching 50 shades of gray, and I am <b>NOT</b> going to watch that, no. thank. you.\n",
    "So I whipped up my computer and just wrote the Task 5 instead.<br><br>\n",
    "\n",
    "I used prior knowledge for just about everything except for how the different beziercurve equations looked,\n",
    "which I just pulled up quickly on Google."
   ],
   "metadata": {
    "collapsed": false
   },
   "id": "372c0cbb0bd872ed"
  },
  {
   "cell_type": "markdown",
   "source": [
    "<h1>Day 2 15/02/24</h1>\n",
    "\n",
    "\n",
    "I commented the code :)"
   ],
   "metadata": {
    "collapsed": false
   },
   "id": "d1f3e198c3e19678"
  },
  {
   "cell_type": "code",
   "outputs": [],
   "source": [],
   "metadata": {
    "collapsed": false
   },
   "id": "1bf36003418800cf"
  }
 ],
 "metadata": {
  "kernelspec": {
   "display_name": "Python 3",
   "language": "python",
   "name": "python3"
  },
  "language_info": {
   "codemirror_mode": {
    "name": "ipython",
    "version": 2
   },
   "file_extension": ".py",
   "mimetype": "text/x-python",
   "name": "python",
   "nbconvert_exporter": "python",
   "pygments_lexer": "ipython2",
   "version": "2.7.6"
  }
 },
 "nbformat": 4,
 "nbformat_minor": 5
}
